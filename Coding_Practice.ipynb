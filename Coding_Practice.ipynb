{
  "nbformat": 4,
  "nbformat_minor": 0,
  "metadata": {
    "colab": {
      "private_outputs": true,
      "provenance": [],
      "authorship_tag": "ABX9TyO19o8RS3ihA8dpy7VVlTBD",
      "include_colab_link": true
    },
    "kernelspec": {
      "name": "python3",
      "display_name": "Python 3"
    },
    "language_info": {
      "name": "python"
    }
  },
  "cells": [
    {
      "cell_type": "markdown",
      "metadata": {
        "id": "view-in-github",
        "colab_type": "text"
      },
      "source": [
        "<a href=\"https://colab.research.google.com/github/Sachinvt/Customer_Churn_Prediction_Classification/blob/main/Coding_Practice.ipynb\" target=\"_parent\"><img src=\"https://colab.research.google.com/assets/colab-badge.svg\" alt=\"Open In Colab\"/></a>"
      ]
    },
    {
      "cell_type": "markdown",
      "source": [
        "Find Items starts with char"
      ],
      "metadata": {
        "id": "d-6qR8I9j2pH"
      }
    },
    {
      "cell_type": "code",
      "execution_count": null,
      "metadata": {
        "id": "-aF2QuvDjpBS"
      },
      "outputs": [],
      "source": [
        "def start_with_char(lst,char):\n",
        "  return [ i for i in lst if i.startswith(char)]\n",
        "\n",
        "lst = eval(input())\n",
        "char = input()\n",
        "print(start_with_char(lst,char))"
      ]
    },
    {
      "cell_type": "markdown",
      "source": [
        "Next Prime Number"
      ],
      "metadata": {
        "id": "UriLV6TcoDq-"
      }
    },
    {
      "cell_type": "code",
      "source": [
        "def nextPrime(n):\n",
        "  p = n+1\n",
        "  for i in range(2,p):\n",
        "      if (p%i ==0):\n",
        "        p+=1\n",
        "  else:\n",
        "        print('The next prime number', n, 'is:', p)\n",
        "\n",
        "n = int(input())\n",
        "print(nextPrime(n))"
      ],
      "metadata": {
        "id": "pFuqnpj1kQoc"
      },
      "execution_count": null,
      "outputs": []
    },
    {
      "cell_type": "markdown",
      "source": [
        "Largest Negative & Smallest Positive numbers"
      ],
      "metadata": {
        "id": "wbYvNEr7qDrr"
      }
    },
    {
      "cell_type": "code",
      "source": [
        "def test(nums):\n",
        "  pos = [n for n in nums if n>0]\n",
        "  neg = [n for n in nums if n<0]\n",
        "  return [max(neg) if neg else 0, min(pos) if pos else 0]\n",
        "\n",
        "lst = eval(input())\n",
        "print(test(lst))"
      ],
      "metadata": {
        "id": "KS36YUF8p4Tm"
      },
      "execution_count": null,
      "outputs": []
    },
    {
      "cell_type": "code",
      "source": [
        "def test(nums):\n",
        "    pos = [n for n in nums if n > 0]\n",
        "    neg = [n for n in nums if n < 0]\n",
        "    return [max(neg) if neg else 0, min(pos) if pos else 0]\n",
        "\n",
        "nums=eval(input())\n",
        "print(test(nums))"
      ],
      "metadata": {
        "id": "OvIMwS5urf_d"
      },
      "execution_count": null,
      "outputs": []
    },
    {
      "cell_type": "markdown",
      "source": [
        "Remove Duplicates in String"
      ],
      "metadata": {
        "id": "cnO-JFmms19j"
      }
    },
    {
      "cell_type": "code",
      "source": [
        "def removeDuplicates(str):\n",
        "  s = ''\n",
        "  l = str.lower()\n",
        "  for i in l:\n",
        "    if i not in s:\n",
        "      s+=i\n",
        "  return s\n",
        "\n",
        "st1 = input()\n",
        "print(removeDuplicates(st1))"
      ],
      "metadata": {
        "id": "2PzQmsuesC_o"
      },
      "execution_count": null,
      "outputs": []
    },
    {
      "cell_type": "markdown",
      "source": [
        "Using lambda items starts with char"
      ],
      "metadata": {
        "id": "d3iDPGyovHml"
      }
    },
    {
      "cell_type": "code",
      "source": [
        "s = input()\n",
        "char = input()\n",
        "start_with = (lambda x: 'True' if x.startswith(char) else 'False')\n",
        "print(start_with(s))"
      ],
      "metadata": {
        "id": "N0o2pi-LuY_4"
      },
      "execution_count": null,
      "outputs": []
    },
    {
      "cell_type": "markdown",
      "source": [
        "Find Euclidian Distance"
      ],
      "metadata": {
        "id": "dBPMMW-EwSkZ"
      }
    },
    {
      "cell_type": "code",
      "source": [
        "x1,y1 = 6,7\n",
        "x2,y2 = 5,4\n",
        "Ecli_dist = ((x2-x1)**2 + (y2-y1)**2)**0.5\n",
        "print(Ecli_dist)"
      ],
      "metadata": {
        "id": "bqXbXCmKvkGv"
      },
      "execution_count": null,
      "outputs": []
    },
    {
      "cell_type": "markdown",
      "source": [
        "Remove char from string"
      ],
      "metadata": {
        "id": "NPUAAmyoxZMJ"
      }
    },
    {
      "cell_type": "code",
      "source": [
        "str = input()\n",
        "strl = str.lower()\n",
        "ch = input()\n",
        "chl = ch.lower()\n",
        "print(strl.replace(chl,''))"
      ],
      "metadata": {
        "id": "eP-70W0-wyuW"
      },
      "execution_count": null,
      "outputs": []
    },
    {
      "cell_type": "markdown",
      "source": [
        "Find Last Position of Substring"
      ],
      "metadata": {
        "id": "WgT6V1iwx0VP"
      }
    },
    {
      "cell_type": "code",
      "source": [
        "str1 = input()\n",
        "substr = input()\n",
        "index = str1.rfind(substr)\n",
        "print(\"The last occurence of\", substr, 'is at',index)"
      ],
      "metadata": {
        "id": "BFtDi4FBxr_E"
      },
      "execution_count": null,
      "outputs": []
    },
    {
      "cell_type": "markdown",
      "source": [
        "Common List"
      ],
      "metadata": {
        "id": "gWTxtExhyvgv"
      }
    },
    {
      "cell_type": "code",
      "source": [
        "lst1 = eval(input())\n",
        "lst2 = eval(input())\n",
        "common_list = list(set(lst1) & set(lst2))\n",
        "print(common_list)"
      ],
      "metadata": {
        "id": "ggeAcuMEyYwk"
      },
      "execution_count": null,
      "outputs": []
    },
    {
      "cell_type": "markdown",
      "source": [
        "String Palindrome"
      ],
      "metadata": {
        "id": "i4ZuqAPlzRnN"
      }
    },
    {
      "cell_type": "code",
      "source": [
        "def is_palindrome(str):\n",
        "  if str == str[::-1]:\n",
        "    return \"The String is Palindrome\"\n",
        "  return \"The string is not palindrome\"\n",
        "\n",
        "str = input()\n",
        "print(is_palindrome(str))"
      ],
      "metadata": {
        "id": "XnD1s448zDWL"
      },
      "execution_count": null,
      "outputs": []
    },
    {
      "cell_type": "markdown",
      "source": [
        "Round Decimal"
      ],
      "metadata": {
        "id": "TOITGBSW0SE-"
      }
    },
    {
      "cell_type": "code",
      "source": [
        "n1 = float(input())\n",
        "n2 = int(input())\n",
        "print(round(n1,n2))"
      ],
      "metadata": {
        "id": "nzwjDJn1z_Dy"
      },
      "execution_count": null,
      "outputs": []
    },
    {
      "cell_type": "markdown",
      "source": [
        "Even or Odd number check"
      ],
      "metadata": {
        "id": "qYs-HC7f0teA"
      }
    },
    {
      "cell_type": "code",
      "source": [
        "n = int(input())\n",
        "if n>0 and n%2==0:\n",
        "  print(\"The number is even\")\n",
        "else:\n",
        "  print('The number is odd')"
      ],
      "metadata": {
        "id": "VNA5rlVS0ewr"
      },
      "execution_count": null,
      "outputs": []
    },
    {
      "cell_type": "markdown",
      "source": [
        "Sum and check the digit length"
      ],
      "metadata": {
        "id": "8nooa-FQ1mhQ"
      }
    },
    {
      "cell_type": "code",
      "source": [
        "n1 = int(input())\n",
        "n2 = int(input())\n",
        "if n1>=10**80 or n2>=10**80 or n1+n2>=10**80:\n",
        "  print(\"Overflow!\")\n",
        "else:\n",
        "  print(n1+n2)"
      ],
      "metadata": {
        "id": "zlA66ksqGkbG"
      },
      "execution_count": null,
      "outputs": []
    },
    {
      "cell_type": "markdown",
      "source": [
        "Remove specified index value"
      ],
      "metadata": {
        "id": "qf__ALFBLuRS"
      }
    },
    {
      "cell_type": "code",
      "source": [
        "lst = eval(input())\n",
        "lst = [x for (i,x) in enumerate(lst) if i not in [0,4,5]]\n",
        "print(lst)"
      ],
      "metadata": {
        "id": "jn-Z0xBXLS3k"
      },
      "execution_count": null,
      "outputs": []
    },
    {
      "cell_type": "markdown",
      "source": [
        "Largest element of list"
      ],
      "metadata": {
        "id": "A6TQM6LVMXG6"
      }
    },
    {
      "cell_type": "code",
      "source": [
        "def max_num(lst):\n",
        "  max = lst[0]\n",
        "  for a in lst:\n",
        "    if a>max:\n",
        "      max = a\n",
        "  return max\n",
        "\n",
        "lst = eval(input())\n",
        "print(max_num(lst))"
      ],
      "metadata": {
        "id": "HzN_wu8yL-do"
      },
      "execution_count": null,
      "outputs": []
    },
    {
      "cell_type": "markdown",
      "source": [
        "Print every nth element"
      ],
      "metadata": {
        "id": "HSmsKAOPNrcN"
      }
    },
    {
      "cell_type": "code",
      "source": [
        "lst = eval(input())\n",
        "n = int(input())\n",
        "print(lst[n-1::n])"
      ],
      "metadata": {
        "id": "7QZq53UuNY9N"
      },
      "execution_count": null,
      "outputs": []
    },
    {
      "cell_type": "markdown",
      "source": [
        "Solve equation with two variables"
      ],
      "metadata": {
        "id": "tC0_IYhvONcD"
      }
    },
    {
      "cell_type": "code",
      "source": [
        "x = float(input())\n",
        "y = float(input())\n",
        "z = (x+y)*(x+y)\n",
        "print(z)"
      ],
      "metadata": {
        "id": "t-S2XQRSN52g"
      },
      "execution_count": null,
      "outputs": []
    },
    {
      "cell_type": "markdown",
      "source": [
        "Largest element of list"
      ],
      "metadata": {
        "id": "ICseyPCqOlQ5"
      }
    },
    {
      "cell_type": "code",
      "source": [
        "def largest_elemn(lst):\n",
        "  max = lst[0]\n",
        "  for a in lst:\n",
        "    if a>max:\n",
        "      max=a\n",
        "  return max\n",
        "\n",
        "lst = eval(input())\n",
        "print(largest_elemn(lst))"
      ],
      "metadata": {
        "id": "hffcIJbIOcvK"
      },
      "execution_count": null,
      "outputs": []
    },
    {
      "cell_type": "markdown",
      "source": [
        "Difference between two lists"
      ],
      "metadata": {
        "id": "Kx4VKNssPRgb"
      }
    },
    {
      "cell_type": "code",
      "source": [
        "L1 = eval(input())\n",
        "L2 = eval(input())\n",
        "difference_1 = set(L1).difference(set(L2))\n",
        "difference_2 = set(L2).difference(set(L1))\n",
        "print(\"L1-L2:\", sorted(difference_1))\n",
        "print(\"L2-L1:\", sorted(difference_2))"
      ],
      "metadata": {
        "id": "Zg0M1CPtO4_U"
      },
      "execution_count": null,
      "outputs": []
    },
    {
      "cell_type": "markdown",
      "source": [
        "Insert string at beginning"
      ],
      "metadata": {
        "id": "e5qkcFNLQUUh"
      }
    },
    {
      "cell_type": "code",
      "source": [
        "lst = eval(input())\n",
        "string = \"emp\"\n",
        "print([string +'{0}'.format(i) for i in lst])"
      ],
      "metadata": {
        "id": "tbBREcNUP6Qf"
      },
      "execution_count": null,
      "outputs": []
    },
    {
      "cell_type": "markdown",
      "source": [
        "Get Murphy Registered for Doga"
      ],
      "metadata": {
        "id": "bglLOrd2Rvsa"
      }
    },
    {
      "cell_type": "code",
      "source": [
        "h_age = int(input())\n",
        "d_age = 0\n",
        "if h_age <=2 and h_age >=0:\n",
        "  d_age = h_age*10.5\n",
        "else:\n",
        "  d_age = 21 + (h_age-2)*4\n",
        "print(d_age)"
      ],
      "metadata": {
        "id": "2OzI4rT8QnyQ"
      },
      "execution_count": null,
      "outputs": []
    },
    {
      "cell_type": "markdown",
      "source": [
        "Test of English Language"
      ],
      "metadata": {
        "id": "D4_scIPAScew"
      }
    },
    {
      "cell_type": "code",
      "source": [
        "ch = input()\n",
        "if ch in ['a', 'e', 'i', 'o', 'u', 'A', 'E', 'I', 'O', 'U']:\n",
        "  print(\"Vowel\")\n",
        "else:\n",
        "  print(\"Consonant\")"
      ],
      "metadata": {
        "id": "jRuuy2e2SNxn"
      },
      "execution_count": null,
      "outputs": []
    },
    {
      "cell_type": "markdown",
      "source": [
        "Pattern formation"
      ],
      "metadata": {
        "id": "lDv5XbZPXc0i"
      }
    },
    {
      "cell_type": "code",
      "source": [
        "n = int(input())\n",
        "for i in range(1,n+1):\n",
        "  print(str(i)*i)"
      ],
      "metadata": {
        "id": "r7wS93elS0mu"
      },
      "execution_count": null,
      "outputs": []
    },
    {
      "cell_type": "markdown",
      "source": [
        "Reschedule the meeting to next date"
      ],
      "metadata": {
        "id": "Sftkd0ltZkSC"
      }
    },
    {
      "cell_type": "code",
      "source": [
        "date_input = input()\n",
        "year, month, day = map(int, date_input.split())\n",
        "\n",
        "if (year % 400 == 0):\n",
        "    leap_year = True\n",
        "elif (year % 100 == 0):\n",
        "    leap_year = False\n",
        "elif (year % 4 == 0):\n",
        "    leap_year = True\n",
        "else:\n",
        "    leap_year = False\n",
        "\n",
        "if month in (1, 3, 5, 7, 8, 10, 12):\n",
        "    month_length = 31\n",
        "elif month == 2:\n",
        "    if leap_year:\n",
        "        month_length = 29\n",
        "    else:\n",
        "        month_length = 28\n",
        "else:\n",
        "    month_length = 30\n",
        "\n",
        "if day < month_length:\n",
        "    day += 1\n",
        "else:\n",
        "    day = 1\n",
        "    if month == 12:\n",
        "        month = 1\n",
        "        year += 1\n",
        "    else:\n",
        "        month += 1\n",
        "\n",
        "print(\"The next date is [yyyy-mm-dd] %d-%d-%d.\" % (year, month, day))"
      ],
      "metadata": {
        "id": "5PzCZsovXyq1"
      },
      "execution_count": null,
      "outputs": []
    },
    {
      "cell_type": "markdown",
      "source": [
        "Sum and Avg of list"
      ],
      "metadata": {
        "id": "DtQ5X3svnN1l"
      }
    },
    {
      "cell_type": "code",
      "source": [
        "count = 0\n",
        "sum = 0.0\n",
        "number = input().split()\n",
        "\n",
        "while number !=0:\n",
        "  number = int(input())\n",
        "  sum = sum + number\n",
        "  count+=1\n",
        "\n",
        "if count==0:\n",
        "  print(\"Input some numbers\")\n",
        "else:\n",
        "  print(\"The Average and sum of gicen numbers is:\", sum/(count-1), sum)\n"
      ],
      "metadata": {
        "id": "abyWthq3aVZD"
      },
      "execution_count": null,
      "outputs": []
    },
    {
      "cell_type": "markdown",
      "source": [
        "Swap two numbers"
      ],
      "metadata": {
        "id": "DeX4hqMhpKw3"
      }
    },
    {
      "cell_type": "code",
      "source": [
        "a = int(input())\n",
        "b = int(input())\n",
        "print(\"The value of a is:\", a)\n",
        "print(\"The value of b is:\", b)\n",
        "a = a-b\n",
        "b = a+b\n",
        "a = b-a\n",
        "print(\"After swapping:\")\n",
        "print(\"The value of a is:\", a)\n",
        "print(\"The value of b is:\", b)"
      ],
      "metadata": {
        "id": "naQ3Igy0oD-E"
      },
      "execution_count": null,
      "outputs": []
    },
    {
      "cell_type": "markdown",
      "source": [
        "Perfect Number"
      ],
      "metadata": {
        "id": "G9MQ-0-mq43J"
      }
    },
    {
      "cell_type": "code",
      "source": [
        "num = int(input())\n",
        "sum = 0\n",
        "\n",
        "for i in range(1,(num//2)+1):\n",
        "  remainder = num%i\n",
        "  if remainder ==0:\n",
        "    sum +=i\n",
        "if sum == num:\n",
        "  print(\"The number is perfect\")\n",
        "\n",
        "else:\n",
        "  print(\"The number is not perfect\")\n"
      ],
      "metadata": {
        "id": "HeGslgl1pmWA"
      },
      "execution_count": null,
      "outputs": []
    },
    {
      "cell_type": "markdown",
      "source": [
        "Change position"
      ],
      "metadata": {
        "id": "xALRroCNtrJZ"
      }
    },
    {
      "cell_type": "code",
      "source": [
        "lst = eval(input())\n",
        "l = len(lst)\n",
        "lstn = []\n",
        "for i in range(0,l-1,2):\n",
        "  lstn.append(lst[i+1])\n",
        "  lstn.append(lst[i])\n",
        "print(lstn)"
      ],
      "metadata": {
        "id": "DibOuuhLtD0e"
      },
      "execution_count": null,
      "outputs": []
    },
    {
      "cell_type": "markdown",
      "source": [
        "Difference between two lists"
      ],
      "metadata": {
        "id": "iKjjDjKZugkJ"
      }
    },
    {
      "cell_type": "code",
      "source": [
        "L1 = eval(input())\n",
        "L2 = eval(input())\n",
        "\n",
        "difference_1 = list(set(L1).difference(set(L2)))\n",
        "difference_2 = list(set(L2).difference(set(L1)))\n",
        "print(\"L1-L2:\", difference_1)\n",
        "print(\"L2-L1:\", difference_2)"
      ],
      "metadata": {
        "id": "O3jSgkIwuLxK"
      },
      "execution_count": null,
      "outputs": []
    },
    {
      "cell_type": "markdown",
      "source": [
        "Find Tuple with smallest index"
      ],
      "metadata": {
        "id": "2IrLdlfCvtQL"
      }
    },
    {
      "cell_type": "code",
      "source": [
        "x = eval(input())\n",
        "print(min(x,key=lambda n:(n[1],-n[0])))"
      ],
      "metadata": {
        "id": "uhaNKKz-uk4m"
      },
      "execution_count": null,
      "outputs": []
    },
    {
      "cell_type": "markdown",
      "source": [
        "Biggest even number"
      ],
      "metadata": {
        "id": "884dNfsVwi9B"
      }
    },
    {
      "cell_type": "code",
      "source": [
        "m = int(input())\n",
        "n = int(input())\n",
        "\n",
        "if m > n or (m==n and m%n ==1):\n",
        "  print(\"-1\")\n",
        "if n%2 ==0:\n",
        "  print(n)\n",
        "else:\n",
        "  print(n-1)"
      ],
      "metadata": {
        "id": "NDXSziG_wB3s"
      },
      "execution_count": null,
      "outputs": []
    },
    {
      "cell_type": "markdown",
      "source": [
        "Numbers below threshold"
      ],
      "metadata": {
        "id": "nOpcvIS8x901"
      }
    },
    {
      "cell_type": "code",
      "source": [
        "def test(nums,thesh):\n",
        "  return [i for i,n in enumerate(nums) if n < thresh]\n",
        "\n",
        "nums = eval(input())\n",
        "thresh = int(input())\n",
        "print(test(nums,thresh))"
      ],
      "metadata": {
        "id": "QLKDBN5sw-r_"
      },
      "execution_count": null,
      "outputs": []
    },
    {
      "cell_type": "markdown",
      "source": [
        "Remove NONE"
      ],
      "metadata": {
        "id": "Ku1wyKiGy5dW"
      }
    },
    {
      "cell_type": "code",
      "source": [
        "def remove_none(lst):\n",
        "  return [x for x in lst if x is not None]\n",
        "\n",
        "lst = eval(input())\n",
        "print(remove_none(lst))"
      ],
      "metadata": {
        "id": "KrKiiCKlyjpq"
      },
      "execution_count": null,
      "outputs": []
    },
    {
      "cell_type": "markdown",
      "source": [
        "Indexes of None"
      ],
      "metadata": {
        "id": "M9WOwAZ1zjbU"
      }
    },
    {
      "cell_type": "code",
      "source": [
        "def index_none(lst):\n",
        "  return [x for x in range(len(lst)) if lst[x] ==None]\n",
        "\n",
        "lst = eval(input())\n",
        "print(index_none(lst))"
      ],
      "metadata": {
        "id": "9zZb32luzPAG"
      },
      "execution_count": null,
      "outputs": []
    },
    {
      "cell_type": "markdown",
      "source": [
        "Remove specific word"
      ],
      "metadata": {
        "id": "QR_03WLs0RuV"
      }
    },
    {
      "cell_type": "code",
      "source": [
        "def test(word,remove_word):\n",
        "  return [word for word in word if word not in remove_word]\n",
        "\n",
        "word = eval(input())\n",
        "remove_word = eval(input())\n",
        "print(test(word,remove_word))"
      ],
      "metadata": {
        "id": "bYt8qxapz5pn"
      },
      "execution_count": null,
      "outputs": []
    },
    {
      "cell_type": "markdown",
      "source": [
        "Count the Characters"
      ],
      "metadata": {
        "id": "HRhX8It1ZhWM"
      }
    },
    {
      "cell_type": "code",
      "source": [
        "str1 = input()\n",
        "d = {}\n",
        "for char in str1:\n",
        "  char = char.lower()\n",
        "  if char in d:\n",
        "    d[char] +=1\n",
        "  else:\n",
        "    d[char] = 1\n",
        "print(d)"
      ],
      "metadata": {
        "id": "gNAbLejz0z1J"
      },
      "execution_count": null,
      "outputs": []
    },
    {
      "cell_type": "markdown",
      "source": [
        "Using lambda find items begin with char"
      ],
      "metadata": {
        "id": "lDQZZrpYaVCB"
      }
    },
    {
      "cell_type": "code",
      "source": [
        "s = input()\n",
        "ch = input()\n",
        "starts_with = lambda s,ch:s.startswith(ch)\n",
        "result = starts_with(s,ch)\n",
        "print(result)"
      ],
      "metadata": {
        "id": "ClkfnBsj8sMw"
      },
      "execution_count": null,
      "outputs": []
    },
    {
      "cell_type": "markdown",
      "source": [
        "Harmonical Sum"
      ],
      "metadata": {
        "id": "740Fa2D-ekpj"
      }
    },
    {
      "cell_type": "code",
      "source": [
        "n = int(input())\n",
        "harmonic_sum = 0\n",
        "for i in range(1,n+1):\n",
        "  harmonic_sum += 1/i\n",
        "print(harmonic_sum)"
      ],
      "metadata": {
        "id": "U4rl2EY7at0Z"
      },
      "execution_count": null,
      "outputs": []
    },
    {
      "cell_type": "markdown",
      "source": [
        "Mingle to Single"
      ],
      "metadata": {
        "id": "kCXqLf07jUXo"
      }
    },
    {
      "cell_type": "code",
      "source": [
        "n = int(input())\n",
        "step_count = 1\n",
        "\n",
        "while n >= 10:\n",
        "    step_sum = 0\n",
        "    while n > 0:\n",
        "        step_sum += n % 10\n",
        "        n //= 10\n",
        "\n",
        "    print(f\"Step-{step_count} Sum: {step_sum}\")\n",
        "\n",
        "    n = step_sum\n",
        "    step_count += 1\n",
        "\n",
        "    print(f\"Step-{step_count} Sum: {step_sum}\")"
      ],
      "metadata": {
        "id": "eTEvHiaMe77-"
      },
      "execution_count": null,
      "outputs": []
    },
    {
      "cell_type": "markdown",
      "source": [
        "Words of Prime Importance"
      ],
      "metadata": {
        "id": "7nYmA7KbjoNZ"
      }
    },
    {
      "cell_type": "code",
      "source": [
        "strs = input()\n",
        "def test(strs):\n",
        "  return \" \".join(strs for strs in strs.split() if is_prime(len(strs)))\n",
        "def is_prime(n):\n",
        "  return n > 0 and all(n % j for j in range(2,int(n** 0.5)+1))\n",
        "print(test(strs))"
      ],
      "metadata": {
        "id": "cMGBP89FiIDr"
      },
      "execution_count": null,
      "outputs": []
    },
    {
      "cell_type": "markdown",
      "source": [
        "Check prime number"
      ],
      "metadata": {
        "id": "h7bDu4CNnmYm"
      }
    },
    {
      "cell_type": "code",
      "source": [
        "def is_prime(n):\n",
        "  if n < 2:\n",
        "    return False\n",
        "  for i in range(2,int(n**0.5)+1):\n",
        "    if n % i ==0:\n",
        "      return False\n",
        "  return True\n",
        "\n",
        "n = int(input())\n",
        "print(is_prime(n))"
      ],
      "metadata": {
        "id": "0zshbT_Xkhtx"
      },
      "execution_count": null,
      "outputs": []
    },
    {
      "cell_type": "markdown",
      "source": [
        "Find closest palindrome"
      ],
      "metadata": {
        "id": "li8x_WctwhWi"
      }
    },
    {
      "cell_type": "code",
      "source": [
        "def is_palindrome(s):\n",
        "  return s == s[::-1]\n",
        "\n",
        "def closest_palindrome(string):\n",
        "  if is_palindrome(string):\n",
        "    return string\n",
        "\n",
        "  n = len(string)\n",
        "  mid = n // 2\n",
        "\n",
        "  left = string[:mid]\n",
        "  right = left[::-1]\n",
        "\n",
        "  if n % 2 ==0:\n",
        "    closest = left + right\n",
        "    if closest > string:\n",
        "      return closest\n",
        "    else:\n",
        "      left_rev = left[::-1]\n",
        "      closest = left + left_rev\n",
        "      return closest\n",
        "  else:\n",
        "    center = string[mid]\n",
        "    closest = left + center + right\n",
        "    if closest > string:\n",
        "      return closest\n",
        "    else:\n",
        "      left_rev = left[::-1]\n",
        "      closest = left + center + left_rev\n",
        "      return closest\n",
        "\n",
        "s = input()\n",
        "print(closest_palindrome(s))"
      ],
      "metadata": {
        "id": "bezTwpqQvTc-"
      },
      "execution_count": null,
      "outputs": []
    },
    {
      "cell_type": "markdown",
      "source": [
        "Print space between characters"
      ],
      "metadata": {
        "id": "CQBnBG42WDou"
      }
    },
    {
      "cell_type": "code",
      "source": [
        "def generate_spaced_string(char_count):\n",
        "  spaced_string = \" \".join([char for char, count in char_count.items() for _ in range(count)])\n",
        "  return spaced_string\n",
        "\n",
        "s = eval(input())\n",
        "print(generate_spaced_string(s))"
      ],
      "metadata": {
        "id": "AsQHL_UdQdP1"
      },
      "execution_count": null,
      "outputs": []
    },
    {
      "cell_type": "markdown",
      "source": [
        "Strange sort"
      ],
      "metadata": {
        "id": "j_rnfRWCXkwd"
      }
    },
    {
      "cell_type": "code",
      "source": [
        "def strang_sort(numbers):\n",
        "  sorted_list = []\n",
        "  sorted(numbers)\n",
        "\n",
        "  while numbers:\n",
        "    sorted_list.append(numbers.pop(0))\n",
        "\n",
        "    if numbers:\n",
        "      sorted_list.append(numbers.pop(-1))\n",
        "\n",
        "  return sorted_list\n",
        "\n",
        "lst = eval(input())\n",
        "print(strang_sort(lst))"
      ],
      "metadata": {
        "id": "qH8bsmP6W15t"
      },
      "execution_count": null,
      "outputs": []
    },
    {
      "cell_type": "markdown",
      "source": [
        "Mails by Mary"
      ],
      "metadata": {
        "id": "X86iojwzZkgs"
      }
    },
    {
      "cell_type": "code",
      "source": [
        "fname = input()\n",
        "lname = input()\n",
        "greetings =\"Hello {} {}\".format(lname,fname)\n",
        "print(greetings)"
      ],
      "metadata": {
        "id": "f0oor2x-YJZL"
      },
      "execution_count": null,
      "outputs": []
    },
    {
      "cell_type": "markdown",
      "source": [
        "Python Problem"
      ],
      "metadata": {
        "id": "o8OwiJBxcHIf"
      }
    },
    {
      "cell_type": "code",
      "source": [
        "x = int(input())\n",
        "y = int(input())\n",
        "z = (x+y)**2\n",
        "print(z)"
      ],
      "metadata": {
        "id": "iaaoCbJsZ3hm"
      },
      "execution_count": null,
      "outputs": []
    },
    {
      "cell_type": "markdown",
      "source": [
        "Sum between 15 to 20"
      ],
      "metadata": {
        "id": "N9E85eO7claF"
      }
    },
    {
      "cell_type": "code",
      "source": [
        "def sum_two(x,y):\n",
        "  sum = x + y\n",
        "  if sum in range(15,20):\n",
        "    return 20\n",
        "  else:\n",
        "    return sum\n",
        "\n",
        "n1 = int(input())\n",
        "n2 = int(input())\n",
        "print(sum_two(n1,n2))"
      ],
      "metadata": {
        "id": "fSighW1ocPld"
      },
      "execution_count": null,
      "outputs": []
    },
    {
      "cell_type": "markdown",
      "source": [
        "Calculate BMI"
      ],
      "metadata": {
        "id": "ATqv_1hidOHO"
      }
    },
    {
      "cell_type": "code",
      "source": [
        "height = float(input())\n",
        "weight = float(input())\n",
        "BMI = round(weight/(height*height),2)\n",
        "print(BMI)"
      ],
      "metadata": {
        "id": "Xcw_QGgrdBb9"
      },
      "execution_count": null,
      "outputs": []
    },
    {
      "cell_type": "markdown",
      "source": [
        "Check positive, negative or zero"
      ],
      "metadata": {
        "id": "w9kOed2FeCoy"
      }
    },
    {
      "cell_type": "code",
      "source": [
        "num = float(input())\n",
        "if num >0:\n",
        "  print(\"The number is positive\")\n",
        "elif num ==0:\n",
        "  print(\"It is Zero\")\n",
        "else:\n",
        "  print(\"The number is negative\")"
      ],
      "metadata": {
        "id": "RzDl3dk9dkec"
      },
      "execution_count": null,
      "outputs": []
    },
    {
      "cell_type": "markdown",
      "source": [
        "Sum and check the digit length"
      ],
      "metadata": {
        "id": "Nuq24AHogbB2"
      }
    },
    {
      "cell_type": "code",
      "source": [
        "x = int(input())\n",
        "y = int(input())\n",
        "if x >= 10**80 or y >= 10**80 or x+y >= 10**80:\n",
        "  print(\"Overflow!\")\n",
        "else:\n",
        "  print(x+y)"
      ],
      "metadata": {
        "id": "QV4LQqlZeeXt"
      },
      "execution_count": null,
      "outputs": []
    },
    {
      "cell_type": "markdown",
      "source": [
        "Sum and check the digit length"
      ],
      "metadata": {
        "id": "wVtNKzzGnCOl"
      }
    },
    {
      "cell_type": "code",
      "source": [
        "x = int(input())\n",
        "y = int(input())\n",
        "if x >= 10**80 or y >= 10**80 or x+y >= 10**80:\n",
        "  print(\"Overflow!\")\n",
        "else:\n",
        "  print(x+y)"
      ],
      "metadata": {
        "id": "GXZZTKCWh7Ss"
      },
      "execution_count": null,
      "outputs": []
    },
    {
      "cell_type": "markdown",
      "source": [
        "Sum of elements of list"
      ],
      "metadata": {
        "id": "RnWncVMInuUf"
      }
    },
    {
      "cell_type": "code",
      "source": [
        "def sum_lst(lst):\n",
        "  sum = 0\n",
        "  for x in lst:\n",
        "    sum +=x\n",
        "  return sum\n",
        "\n",
        "lst = eval(input())\n",
        "print(sum_lst(lst))"
      ],
      "metadata": {
        "id": "xARJx22Fndsp"
      },
      "execution_count": null,
      "outputs": []
    },
    {
      "cell_type": "markdown",
      "source": [
        "Product of list elements"
      ],
      "metadata": {
        "id": "KSs6aK_xohaW"
      }
    },
    {
      "cell_type": "code",
      "source": [
        "def multiply_lst(items):\n",
        "  a = 1\n",
        "  for x in items:\n",
        "    a*=x\n",
        "  return a\n",
        "\n",
        "items = eval(input())\n",
        "print(multiply_lst(items))"
      ],
      "metadata": {
        "id": "Y4yRjGKIoMqh"
      },
      "execution_count": null,
      "outputs": []
    },
    {
      "cell_type": "markdown",
      "source": [
        "Check positive, negative or zero"
      ],
      "metadata": {
        "id": "pK_SOu-PrwGb"
      }
    },
    {
      "cell_type": "code",
      "source": [
        "n = int(input())\n",
        "if n >0:\n",
        "  print(\"The number is positive\")\n",
        "elif n ==0:\n",
        "  print(\"It is Zero\")\n",
        "else:\n",
        "  print(\"The number is negative\")"
      ],
      "metadata": {
        "id": "xJt0K4UxrnfB"
      },
      "execution_count": null,
      "outputs": []
    },
    {
      "cell_type": "markdown",
      "source": [
        "Whether the string is pangram or not"
      ],
      "metadata": {
        "id": "gGakk-NouG5x"
      }
    },
    {
      "cell_type": "code",
      "source": [
        "import string\n",
        "\n",
        "def ispangram(str1, alphabet=string.ascii_lowercase):\n",
        "  alphaset = set(alphabet)\n",
        "  return alphaset <= set(str1.lower())\n",
        "\n",
        "str1 = input()\n",
        "print(ispangram(str1))"
      ],
      "metadata": {
        "id": "E8rCoOMJsdSR"
      },
      "execution_count": null,
      "outputs": []
    },
    {
      "cell_type": "markdown",
      "source": [
        "Function for pascal's triangle"
      ],
      "metadata": {
        "id": "RMpwDdNa2K-w"
      }
    },
    {
      "cell_type": "code",
      "source": [
        "def generate_pascal_triangle(n):\n",
        "  result = []\n",
        "  for i in range(n):\n",
        "    row = [1]*(i+1)\n",
        "    for j in range(1,i):\n",
        "      row[j] = result[i-1][j-1] + result[i-1][j]\n",
        "    result.append(row)\n",
        "\n",
        "  for row in result:\n",
        "    print(row)\n",
        "\n",
        "n = int(input())\n",
        "generate_pascal_triangle(n)"
      ],
      "metadata": {
        "id": "g0xQMJKt1Pqt"
      },
      "execution_count": null,
      "outputs": []
    },
    {
      "cell_type": "markdown",
      "source": [
        "remove odd index character"
      ],
      "metadata": {
        "id": "ErVyJz-w6JU9"
      }
    },
    {
      "cell_type": "code",
      "source": [
        "def remove_odd_index(str1):\n",
        "  result = ''\n",
        "  for i in range(len(str1)):\n",
        "    if i % 2 ==0:\n",
        "      result = result + str1[i]\n",
        "  return result\n",
        "\n",
        "str1 = input()\n",
        "print(remove_odd_index(str1))"
      ],
      "metadata": {
        "id": "XhmxhFj03wOv"
      },
      "execution_count": null,
      "outputs": []
    },
    {
      "cell_type": "markdown",
      "source": [
        "Remove Even index"
      ],
      "metadata": {
        "id": "rzEDg9cn7P9Z"
      }
    },
    {
      "cell_type": "code",
      "source": [
        "def remove_even_index(str1):\n",
        "  result = ''\n",
        "  for i in range(len(str1)):\n",
        "    if i % 2 !=0:\n",
        "      result = result + str1[i]\n",
        "  return result\n",
        "\n",
        "str1 = input()\n",
        "print(remove_even_index(str1))"
      ],
      "metadata": {
        "id": "5qYWfo1W6za9"
      },
      "execution_count": null,
      "outputs": []
    },
    {
      "cell_type": "markdown",
      "source": [
        "Convert user input into upper case"
      ],
      "metadata": {
        "id": "Zyyh2LMN9EJO"
      }
    },
    {
      "cell_type": "code",
      "source": [
        "def convert_upper(str1):\n",
        "  result = ''\n",
        "  for i in range(len(str1)):\n",
        "    result = str1.upper()\n",
        "  return result\n",
        "\n",
        "str1 = input()\n",
        "print(convert_upper(str1))"
      ],
      "metadata": {
        "id": "gXINxSrE7zBF"
      },
      "execution_count": null,
      "outputs": []
    },
    {
      "cell_type": "markdown",
      "source": [
        "Convert user input into lower case"
      ],
      "metadata": {
        "id": "eg_EllKN9uWT"
      }
    },
    {
      "cell_type": "code",
      "source": [
        "def convert_lower(str1):\n",
        "  result = ''\n",
        "  for char in str1:\n",
        "    result = str1.lower()\n",
        "  return result\n",
        "\n",
        "str1 = input()\n",
        "print(convert_lower(str1))"
      ],
      "metadata": {
        "id": "sWMOJvcl9dbK"
      },
      "execution_count": null,
      "outputs": []
    },
    {
      "cell_type": "markdown",
      "source": [
        "Function to calculate factorial"
      ],
      "metadata": {
        "id": "FUxa4EOj-MCZ"
      }
    },
    {
      "cell_type": "code",
      "source": [
        "def calculate_fact(n):\n",
        "  if n ==0:\n",
        "    return 1\n",
        "  else:\n",
        "    return n *calculate_fact(n-1)\n",
        "\n",
        "n = int(input())\n",
        "print(calculate_fact(n))"
      ],
      "metadata": {
        "id": "H-tgPoCd-A-I"
      },
      "execution_count": null,
      "outputs": []
    },
    {
      "cell_type": "markdown",
      "source": [
        "Function to reverse string"
      ],
      "metadata": {
        "id": "1N0CGOkW_VoL"
      }
    },
    {
      "cell_type": "code",
      "source": [
        "def reverse_str(str1):\n",
        "  result = ''\n",
        "  for char in str1:\n",
        "    result = str1[::-1]\n",
        "  return result\n",
        "\n",
        "s = input()\n",
        "print(reverse_str(s))"
      ],
      "metadata": {
        "id": "LnvyZbjJ-kus"
      },
      "execution_count": null,
      "outputs": []
    },
    {
      "cell_type": "markdown",
      "source": [
        "Function to multiply numbers of a list"
      ],
      "metadata": {
        "id": "ymr8wVmjBwGh"
      }
    },
    {
      "cell_type": "code",
      "source": [
        "def multiply(lst):\n",
        "  a = 1\n",
        "  for x in lst:\n",
        "    a *= x\n",
        "  return a\n",
        "\n",
        "x = eval(input())\n",
        "print(multiply(x))"
      ],
      "metadata": {
        "id": "J_7zoBXn_uuZ"
      },
      "execution_count": null,
      "outputs": []
    },
    {
      "cell_type": "markdown",
      "source": [
        "Function to sum numbers of a list"
      ],
      "metadata": {
        "id": "zeBe5HpICZxe"
      }
    },
    {
      "cell_type": "code",
      "source": [
        "def sum_lst(lst):\n",
        "  sum = 0\n",
        "  for i in lst:\n",
        "    sum += i\n",
        "  return sum\n",
        "\n",
        "n = eval(input())\n",
        "print(sum_lst(n))"
      ],
      "metadata": {
        "id": "YcO9ORzICGtj"
      },
      "execution_count": null,
      "outputs": []
    },
    {
      "cell_type": "markdown",
      "source": [
        "Write function to get maximum number"
      ],
      "metadata": {
        "id": "vT0NOrHYDFdH"
      }
    },
    {
      "cell_type": "code",
      "source": [
        "def max_of_two(x,y):\n",
        "  if x > y:\n",
        "    return x\n",
        "  return y\n",
        "\n",
        "def max_of_three(x,y,z):\n",
        "  return max_of_two(x,max_of_two(y,z))\n",
        "\n",
        "x = int(input())\n",
        "y = int(input())\n",
        "z = int(input())\n",
        "print(max_of_three(x,y,z))"
      ],
      "metadata": {
        "id": "arWQcUxHC2FX"
      },
      "execution_count": null,
      "outputs": []
    },
    {
      "cell_type": "markdown",
      "source": [
        "Number of Days"
      ],
      "metadata": {
        "id": "V0fbPvpBEaq5"
      }
    },
    {
      "cell_type": "code",
      "source": [
        "month_name = input()\n",
        "if month_name == \"February\":\n",
        "  print(\"No.of days: 28/29 days\")\n",
        "elif month_name in (\"April\", \"June\", \"September\", \"November\"):\n",
        "  print(\"No. of days: 30 days\")\n",
        "elif month_name in (\"January\", \"March\", \"May\", \"July\", \"August\", \"October\", \"December\"):\n",
        "  print(\"No. of days: 31 days\")\n",
        "else:\n",
        "  print(\"Input correct month\")"
      ],
      "metadata": {
        "id": "qHQXmZSXDtPm"
      },
      "execution_count": null,
      "outputs": []
    },
    {
      "cell_type": "markdown",
      "source": [
        "Filter positives"
      ],
      "metadata": {
        "id": "oqHO78-EFuIg"
      }
    },
    {
      "cell_type": "code",
      "source": [
        "def filter_positive(lst):\n",
        "  return list(filter(lambda x:x>0,lst))\n",
        "\n",
        "x = eval(input())\n",
        "print(filter_positive(x))"
      ],
      "metadata": {
        "id": "VwmO7X-oFdNe"
      },
      "execution_count": null,
      "outputs": []
    },
    {
      "cell_type": "markdown",
      "source": [
        "Area of Circle"
      ],
      "metadata": {
        "id": "lmE5DqHJGSoR"
      }
    },
    {
      "cell_type": "code",
      "source": [
        "from math import pi\n",
        "\n",
        "def area_circle(r):\n",
        "  area = pi * r**2\n",
        "  return area\n",
        "\n",
        "r = float(input())\n",
        "print(area_circle(r))"
      ],
      "metadata": {
        "id": "Dd72yr3DF-Ib"
      },
      "execution_count": null,
      "outputs": []
    },
    {
      "cell_type": "markdown",
      "source": [
        "Even number or Odd number"
      ],
      "metadata": {
        "id": "cbNN2_WYHQz1"
      }
    },
    {
      "cell_type": "code",
      "source": [
        "def check_even_odd(n):\n",
        "  if n % 2 ==0:\n",
        "    return \"This an even number\"\n",
        "  return \"This is an odd number\"\n",
        "\n",
        "n = float(input())\n",
        "print(check_even_odd(n))"
      ],
      "metadata": {
        "id": "idivpvgVG0yB"
      },
      "execution_count": null,
      "outputs": []
    },
    {
      "cell_type": "markdown",
      "source": [
        "Area of triangle"
      ],
      "metadata": {
        "id": "Q05RdGZxJQch"
      }
    },
    {
      "cell_type": "code",
      "source": [
        "def area_of_triangle(b,h):\n",
        "  base = b\n",
        "  height = h\n",
        "  area = 0.5*b*h\n",
        "  return area\n",
        "\n",
        "b = float(input())\n",
        "h = float(input())\n",
        "print(area_of_triangle(b,h))"
      ],
      "metadata": {
        "id": "w5V_SzdtHqAJ"
      },
      "execution_count": null,
      "outputs": []
    },
    {
      "cell_type": "markdown",
      "source": [
        "Two integers equal or their sum or difference equals 5"
      ],
      "metadata": {
        "id": "RRFWHfl1J4Tn"
      }
    },
    {
      "cell_type": "code",
      "source": [
        "def test_numbers5(x,y):\n",
        "  if x==y or abs(x-y)==5 or (x+y)==5:\n",
        "    return True\n",
        "  return False\n",
        "\n",
        "n1 = int(input())\n",
        "n2 = int(input())\n",
        "print(test_numbers5(n1,n2))"
      ],
      "metadata": {
        "id": "8DzXnCPnJmcF"
      },
      "execution_count": null,
      "outputs": []
    },
    {
      "cell_type": "markdown",
      "source": [
        "Convert height from feet and inches to centimeters"
      ],
      "metadata": {
        "id": "C2CCrYiSK-oO"
      }
    },
    {
      "cell_type": "code",
      "source": [
        "def convert_height_cm(h_inch):\n",
        "  h_inch += h_ft*12\n",
        "  h_cm = round(h_inch*2.54,1)\n",
        "  return h_cm\n",
        "\n",
        "h_ft = int(input())\n",
        "h_inch = int(input())\n",
        "print(convert_height_cm(h_inch))"
      ],
      "metadata": {
        "id": "XRfLM52mKTOf"
      },
      "execution_count": null,
      "outputs": []
    },
    {
      "cell_type": "markdown",
      "source": [
        "Calculate Hypotenuse"
      ],
      "metadata": {
        "id": "2icxl01dM8ca"
      }
    },
    {
      "cell_type": "code",
      "source": [
        "from math import sqrt\n",
        "a = float(input())\n",
        "b = float(input())\n",
        "hypotenuse = sqrt(a**2 + b**2)\n",
        "print(hypotenuse)"
      ],
      "metadata": {
        "id": "1SRMPt4JMrvO"
      },
      "execution_count": null,
      "outputs": []
    },
    {
      "cell_type": "markdown",
      "source": [
        "Convert seconds to day, hour, minutes and seconds"
      ],
      "metadata": {
        "id": "rVCiWdWQTdfL"
      }
    },
    {
      "cell_type": "code",
      "source": [
        "time = float(input())\n",
        "day = time // (24 * 3600)\n",
        "time = time % (24 * 3600)\n",
        "hour = time // 3600\n",
        "time %= 3600\n",
        "minutes = time // 60\n",
        "time %= 60\n",
        "seconds = time\n",
        "print(\"d:h:m:s-> %d:%d:%d:%d\" % (day, hour, minutes, seconds))"
      ],
      "metadata": {
        "id": "UEtMZt8qOjZp"
      },
      "execution_count": null,
      "outputs": []
    },
    {
      "cell_type": "markdown",
      "source": [
        "Range of 100 from 1000 or 2000"
      ],
      "metadata": {
        "id": "7Y9LcvLc176C"
      }
    },
    {
      "cell_type": "code",
      "source": [
        "def near_thousands(n):\n",
        "  return ((abs(1000-n)<=100)) or ((abs(2000-n)>=100))\n",
        "\n",
        "n = int(input())\n",
        "print(near_thousands(n))"
      ],
      "metadata": {
        "id": "GkDSBPxsV_JX"
      },
      "execution_count": null,
      "outputs": []
    },
    {
      "cell_type": "markdown",
      "source": [
        "Least Common Multiple"
      ],
      "metadata": {
        "id": "KBpxaGIZ2fUD"
      }
    },
    {
      "cell_type": "code",
      "source": [
        "def lcm(x,y):\n",
        "  if x>y:\n",
        "    z=x\n",
        "  else:\n",
        "    z=y\n",
        "  while(True):\n",
        "    if ((z%x==0) and (z%y==0)):\n",
        "      lcm = z\n",
        "      break\n",
        "    z+=1\n",
        "  return lcm\n",
        "\n",
        "n1 = int(input())\n",
        "n2 = int(input())\n",
        "print(lcm(n1,n2))"
      ],
      "metadata": {
        "id": "mwelMiU42YGb"
      },
      "execution_count": null,
      "outputs": []
    },
    {
      "cell_type": "markdown",
      "source": [
        "Greatest Common Divisor of two integers"
      ],
      "metadata": {
        "id": "ql7CBa326XfE"
      }
    },
    {
      "cell_type": "code",
      "source": [
        "def hcf(x,y):\n",
        "  hcf = 1\n",
        "  if x%y ==0:\n",
        "    return y\n",
        "  for k in range(int(y/2),0, -1):\n",
        "    if x%k ==0 and y%k==0:\n",
        "      hcf=k\n",
        "      break\n",
        "  return hcf\n",
        "\n",
        "n1 = int(input())\n",
        "n2 = int(input())\n",
        "print(hcf(n1,n2))"
      ],
      "metadata": {
        "id": "BW8qObhy33XU"
      },
      "execution_count": null,
      "outputs": []
    },
    {
      "cell_type": "markdown",
      "source": [
        "Difference with 17"
      ],
      "metadata": {
        "id": "EvHI9whstARH"
      }
    },
    {
      "cell_type": "code",
      "source": [
        "def diff_with_17(n):\n",
        "  if n<=17:\n",
        "    return 17-n\n",
        "  else:\n",
        "    return (17-n)*2\n",
        "\n",
        "n = int(input())\n",
        "print(diff_with_17(n))"
      ],
      "metadata": {
        "id": "lVLiYnObBK50"
      },
      "execution_count": null,
      "outputs": []
    },
    {
      "cell_type": "markdown",
      "source": [
        "Count number of primes"
      ],
      "metadata": {
        "id": "CUkfIhuNuWCB"
      }
    },
    {
      "cell_type": "code",
      "source": [
        "def count_Primes_nums(n):\n",
        "    ctr = 0\n",
        "\n",
        "    for num in range(n):\n",
        "        if num <= 1:\n",
        "            continue\n",
        "        for i in range(2, num):\n",
        "            if (num % i) == 0:\n",
        "                break\n",
        "        else:\n",
        "            ctr += 1\n",
        "\n",
        "    return ctr\n",
        "\n",
        "n = int(input())\n",
        "print(count_Primes_nums(n))"
      ],
      "metadata": {
        "id": "5x3-Kj2CuB60"
      },
      "execution_count": null,
      "outputs": []
    },
    {
      "cell_type": "code",
      "source": [
        "def lcm(x,y):\n",
        "  if x>y:\n",
        "    z=x\n",
        "  else:\n",
        "    z=y\n",
        "  while(True):\n",
        "    if ((z%x==0) and (z%y==0)):\n",
        "      lcm = z\n",
        "      break\n",
        "    z +=1\n",
        "  return lcm\n",
        "\n",
        "n1= int(input())\n",
        "n2 = int(input())\n",
        "print(lcm(n1,n2))"
      ],
      "metadata": {
        "id": "YP9rQTsSvZrv"
      },
      "execution_count": null,
      "outputs": []
    },
    {
      "cell_type": "code",
      "source": [
        "def hcf(x,y):\n",
        "  hcf = 1\n",
        "  if x%y ==0:\n",
        "    return y\n",
        "  for k in range(int(y/2), 0, -1):\n",
        "    if (x%k==0) and (y%k==0):\n",
        "      hcf = k\n",
        "      break\n",
        "  return hcf\n",
        "\n",
        "n1 = int(input())\n",
        "n2 = int(input())\n",
        "print(hcf(n1,n2))"
      ],
      "metadata": {
        "id": "1vEOmdJqw0SM"
      },
      "execution_count": null,
      "outputs": []
    },
    {
      "cell_type": "markdown",
      "source": [
        "Mid point of a line"
      ],
      "metadata": {
        "id": "fY6jRzc1yD8h"
      }
    },
    {
      "cell_type": "code",
      "source": [
        "x1 = float(input())\n",
        "y1 = float(input())\n",
        "\n",
        "x2 = float(input())\n",
        "y2 = float(input())\n",
        "\n",
        "x_mid = (x1+x2)/2\n",
        "y_mid = (y1+y2)/2\n",
        "print(x_mid,y_mid)"
      ],
      "metadata": {
        "id": "nxyYi8I5xiSd"
      },
      "execution_count": null,
      "outputs": []
    },
    {
      "cell_type": "markdown",
      "source": [
        "Swap two integers"
      ],
      "metadata": {
        "id": "AxYUtuKv0ddb"
      }
    },
    {
      "cell_type": "code",
      "source": [
        "a = int(input())\n",
        "b = int(input())\n",
        "print(a,b)\n",
        "a,b = b,a\n",
        "print(a,b)"
      ],
      "metadata": {
        "id": "UXRYSaFeyeO8"
      },
      "execution_count": null,
      "outputs": []
    },
    {
      "cell_type": "markdown",
      "source": [
        "What's your BMI?"
      ],
      "metadata": {
        "id": "Ey2SC5gm00Yb"
      }
    },
    {
      "cell_type": "code",
      "source": [
        "weight = float(input())\n",
        "height = float(input())\n",
        "BMI = round(weight/(height**2),2)\n",
        "print(BMI)"
      ],
      "metadata": {
        "id": "1HXTKd4E0pQ_"
      },
      "execution_count": null,
      "outputs": []
    },
    {
      "cell_type": "markdown",
      "source": [
        "Add and Swap"
      ],
      "metadata": {
        "id": "8Ce3hBwX6ejE"
      }
    },
    {
      "cell_type": "code",
      "source": [
        "a  = input()\n",
        "b = input()\n",
        "\n",
        "new_a = b[:2] + a[2:]\n",
        "new_b = a[:2] + b[2:]\n",
        "\n",
        "print(new_a+ ' '+new_b)"
      ],
      "metadata": {
        "id": "yg5hIf_d1FHM"
      },
      "execution_count": null,
      "outputs": []
    },
    {
      "cell_type": "markdown",
      "source": [
        "Fun game"
      ],
      "metadata": {
        "id": "v9NMk-Gu7QIc"
      }
    },
    {
      "cell_type": "code",
      "source": [
        "lst = eval(input())\n",
        "n = int(input())\n",
        "result = []\n",
        "\n",
        "for i in range(1,len(lst)+1):\n",
        "  if i %n==0:\n",
        "    result.append(lst[i-1])\n",
        "print(result)"
      ],
      "metadata": {
        "id": "CXsHiOxM620t"
      },
      "execution_count": null,
      "outputs": []
    },
    {
      "cell_type": "markdown",
      "source": [
        "Missing Values in list"
      ],
      "metadata": {
        "id": "K55dcGen8WUs"
      }
    },
    {
      "cell_type": "code",
      "source": [
        "def missing_value(lst):\n",
        "  return [x for x in range(lst[0],lst[-1]+1) if x not in lst]\n",
        "\n",
        "k = eval(input())\n",
        "print(missing_value(k))"
      ],
      "metadata": {
        "id": "w3i8928b7xNA"
      },
      "execution_count": null,
      "outputs": []
    },
    {
      "cell_type": "markdown",
      "source": [
        "Create lambda function"
      ],
      "metadata": {
        "id": "_8fNqPRQO5Xm"
      }
    },
    {
      "cell_type": "code",
      "source": [
        "add = int(input())\n",
        "mult1 = int(input())\n",
        "mult2 = int(input())\n",
        "\n",
        "r = lambda a:a+15\n",
        "print(\"After addition:\", r(add))\n",
        "\n",
        "r = lambda x,y:x*y\n",
        "print(\"After multiplication:\",r(mult1,mult2))"
      ],
      "metadata": {
        "id": "nl2MPnxu8vzJ"
      },
      "execution_count": null,
      "outputs": []
    },
    {
      "cell_type": "markdown",
      "source": [
        "Words with Prime Length"
      ],
      "metadata": {
        "id": "1h3pi7PMPt_i"
      }
    },
    {
      "cell_type": "code",
      "source": [
        "def test(strs):\n",
        "  return \" \".join(strs for strs in strs.split() if is_prime(len(strs)))\n",
        "\n",
        "def is_prime(n):\n",
        "  return n>1 and all(n%j for j in range(2,int(n**0.5)+1))\n",
        "\n",
        "strs = input()\n",
        "print(test(strs))"
      ],
      "metadata": {
        "id": "jvya_yeVPeer"
      },
      "execution_count": null,
      "outputs": []
    },
    {
      "cell_type": "markdown",
      "source": [
        "Get next date"
      ],
      "metadata": {
        "id": "_3QPGzEJQvLL"
      }
    },
    {
      "cell_type": "code",
      "source": [
        "year = int(input())\n",
        "month = int(input())\n",
        "day = int(input())\n",
        "\n",
        "if (year%400==0):\n",
        "  leap_year = True\n",
        "elif (year%100==0):\n",
        "  leap_year = False\n",
        "elif (year%4==0):\n",
        "  leap_year = True\n",
        "else:\n",
        "  leap_year = False\n",
        "\n",
        "if month in (1,3,7,8,10,12):\n",
        "  month_length = 31\n",
        "  if month ==2:\n",
        "    if leap_year:\n",
        "      month_length = 29\n",
        "    else:\n",
        "      month_length = 28\n",
        "else:\n",
        "  month_length = 30\n",
        "\n",
        "if day < month_length:\n",
        "  day +=1\n",
        "else:\n",
        "  day = 1\n",
        "  if month ==12:\n",
        "    month =1\n",
        "    year +=1\n",
        "  else:\n",
        "    month +=1\n",
        "print(\"The next date of [yyyy-mm-dd] %d-%d-%d.\"%(year,month,day))"
      ],
      "metadata": {
        "id": "w2gN14cmQQnr"
      },
      "execution_count": null,
      "outputs": []
    },
    {
      "cell_type": "markdown",
      "source": [
        "Get triangle type from given inputs"
      ],
      "metadata": {
        "id": "RLeEThZ8zJIt"
      }
    },
    {
      "cell_type": "code",
      "source": [
        "def triangle_type(x,y,z):\n",
        "  if x==y==z:\n",
        "    return \"Equilateral Triangle\"\n",
        "  elif x==y or y==z or z==x:\n",
        "    return \"Isosceles Triangle\"\n",
        "  else:\n",
        "    return \"Scalene Triangle\"\n",
        "\n",
        "x = float(input())\n",
        "y = float(input())\n",
        "z = float(input())\n",
        "print(triangle_type(x,y,z))"
      ],
      "metadata": {
        "id": "qg8x9L76SpjF"
      },
      "execution_count": null,
      "outputs": []
    },
    {
      "cell_type": "markdown",
      "source": [
        "Calculate sum and average"
      ],
      "metadata": {
        "id": "0yrgp7XT1j5x"
      }
    },
    {
      "cell_type": "code",
      "source": [
        "count = 0\n",
        "sum = 0.0\n",
        "number = 1\n",
        "\n",
        "while number !=0:\n",
        "  number = int(input(\"\"))\n",
        "  sum = sum + number\n",
        "  count +=1\n",
        "\n",
        "if count ==0:\n",
        "  print(\"Input some numbers\")\n",
        "else:\n",
        "  print(\"Average and sum of numbers is:\", sum/(count-1),sum)"
      ],
      "metadata": {
        "id": "PFVhccwxz7zq"
      },
      "execution_count": null,
      "outputs": []
    },
    {
      "cell_type": "markdown",
      "source": [
        "Month days"
      ],
      "metadata": {
        "id": "IXefsc07-lJv"
      }
    },
    {
      "cell_type": "code",
      "source": [
        "month = input()\n",
        "\n",
        "if month ==\"February\":\n",
        "  print(\"No. of days 28/29\")\n",
        "elif month in (\"April\", \"June\", \"September\", \"November\"):\n",
        "  print(\"No. of days 30\")\n",
        "elif month in (\"January\", \"March\", \"May\", \"July\", \"August\", \"October\", \"December\"):\n",
        "  print(\"No. of days 31\")\n",
        "else:\n",
        "  print(\"Enter correct month\")"
      ],
      "metadata": {
        "id": "E3sVBTyV2LsQ"
      },
      "execution_count": null,
      "outputs": []
    },
    {
      "cell_type": "markdown",
      "source": [
        "Vowel or consonant"
      ],
      "metadata": {
        "id": "IS8MHbxl_5FJ"
      }
    },
    {
      "cell_type": "code",
      "source": [
        "i = input()\n",
        "if i in ('a', 'e', 'i', 'o', 'u', 'A', 'E', 'I', 'O', 'U'):\n",
        "  print(\"Vowel\")\n",
        "else:\n",
        "  print(\"Consonant\")"
      ],
      "metadata": {
        "id": "JT-W4ZEM_sYy"
      },
      "execution_count": null,
      "outputs": []
    },
    {
      "cell_type": "markdown",
      "source": [
        "Armstrong Award"
      ],
      "metadata": {
        "id": "B70GP4UFPO2d"
      }
    },
    {
      "cell_type": "code",
      "source": [
        "i=0\n",
        "result=0\n",
        "n = int(input())\n",
        "number1 = n\n",
        "temp = n\n",
        "while n!=0:\n",
        "    n = (n//10)\n",
        "    i=i+1;\n",
        "while number1!=0:\n",
        "    n=number1%10\n",
        "    result=result+pow(n,i)\n",
        "    number1=number1//10\n",
        "if temp==result:\n",
        "    print(\"Number is Armstrong\")\n",
        "else:\n",
        "    print(\"Number is not Armstrong\")"
      ],
      "metadata": {
        "id": "xi7buP0vAM8x"
      },
      "execution_count": null,
      "outputs": []
    },
    {
      "cell_type": "markdown",
      "source": [
        "Print even numbers before a given number"
      ],
      "metadata": {
        "id": "HZFnq-MAPs3B"
      }
    },
    {
      "cell_type": "code",
      "source": [
        "numbers = eval(input())\n",
        "for x in numbers:\n",
        "  if x ==237:\n",
        "    break;\n",
        "  elif x%2==0:\n",
        "    print(x)"
      ],
      "metadata": {
        "id": "l_B39i9SPRnI"
      },
      "execution_count": null,
      "outputs": []
    },
    {
      "cell_type": "markdown",
      "source": [
        "Count occurrences of 4"
      ],
      "metadata": {
        "id": "ofqSxZgrQuJe"
      }
    },
    {
      "cell_type": "code",
      "source": [
        "def list_count4(nums):\n",
        "  count = 0\n",
        "  for num in nums:\n",
        "    if num ==4:\n",
        "      count+=1\n",
        "  return count\n",
        "\n",
        "lst = eval(input())\n",
        "print(list_count4(lst))"
      ],
      "metadata": {
        "id": "T1uXZbe7Qa5b"
      },
      "execution_count": null,
      "outputs": []
    },
    {
      "cell_type": "markdown",
      "source": [
        "Sum of List Elements"
      ],
      "metadata": {
        "id": "QjDC4-lfRk1n"
      }
    },
    {
      "cell_type": "code",
      "source": [
        "def sum_lst(lst):\n",
        "  sum = 0\n",
        "  for x in lst:\n",
        "    sum +=x\n",
        "  return sum\n",
        "\n",
        "lst = eval(input())\n",
        "print(sum_lst(lst))"
      ],
      "metadata": {
        "id": "vE7QODhURJ8a"
      },
      "execution_count": null,
      "outputs": []
    },
    {
      "cell_type": "markdown",
      "source": [
        "Check index"
      ],
      "metadata": {
        "id": "5SPG4RatSQrE"
      }
    },
    {
      "cell_type": "code",
      "source": [
        "def odd_even_index(lst):\n",
        "  return all(lst[i]%2==i%2 for i in range(len(lst)))\n",
        "\n",
        "lst = eval(input())\n",
        "print(odd_even_index(lst))"
      ],
      "metadata": {
        "id": "NMnk4rTcRrq7"
      },
      "execution_count": null,
      "outputs": []
    },
    {
      "cell_type": "markdown",
      "source": [
        "Sum of two equals k"
      ],
      "metadata": {
        "id": "mCSwB6Y1X-p9"
      }
    },
    {
      "cell_type": "code",
      "source": [
        "def sum_of_two(lst,k):\n",
        "  for i in range(len(lst)):\n",
        "    for j in range(i+1, len(lst)):\n",
        "      if lst[i] + lst[j] ==k:\n",
        "        return True\n",
        "  return False\n",
        "\n",
        "lst = eval(input())\n",
        "k = int(input())\n",
        "print(sum_of_two(lst,k))"
      ],
      "metadata": {
        "id": "ijtHxJ1KT5wy"
      },
      "execution_count": null,
      "outputs": []
    },
    {
      "cell_type": "markdown",
      "source": [
        "Convert to list"
      ],
      "metadata": {
        "id": "ks20A4g7c3NH"
      }
    },
    {
      "cell_type": "code",
      "source": [
        "values = input()\n",
        "values_list = values.split(\",\")\n",
        "values_tuple = tuple(values_list)\n",
        "print(values_list)\n",
        "print(values_tuple)"
      ],
      "metadata": {
        "id": "9xBGfY0WYj7R"
      },
      "execution_count": null,
      "outputs": []
    },
    {
      "cell_type": "markdown",
      "source": [
        "Concatenate list elements"
      ],
      "metadata": {
        "id": "-Fzv1omSdhKv"
      }
    },
    {
      "cell_type": "code",
      "source": [
        "def concatenate_list(lst):\n",
        "  result = ''\n",
        "  for element in lst:\n",
        "    result +=str(element)\n",
        "  return result\n",
        "\n",
        "lst = eval(input())\n",
        "print(concatenate_list(lst))"
      ],
      "metadata": {
        "id": "RRUI31IJdOL7"
      },
      "execution_count": null,
      "outputs": []
    },
    {
      "cell_type": "markdown",
      "source": [
        "Numbers divisible by 15"
      ],
      "metadata": {
        "id": "TxZC2PvMeS29"
      }
    },
    {
      "cell_type": "code",
      "source": [
        "n = eval(input())\n",
        "result = list(filter(lambda x:(x%15==0),n))\n",
        "print(result)"
      ],
      "metadata": {
        "id": "DKDaRxjfd37F"
      },
      "execution_count": null,
      "outputs": []
    },
    {
      "cell_type": "markdown",
      "source": [
        "Product of elements"
      ],
      "metadata": {
        "id": "hsDO1pLSfC4D"
      }
    },
    {
      "cell_type": "code",
      "source": [
        "from functools import reduce\n",
        "\n",
        "num = eval(input())\n",
        "result = reduce(lambda x,y:(x*y),num)\n",
        "print(result)"
      ],
      "metadata": {
        "id": "bR-VPeP-ekAw"
      },
      "execution_count": null,
      "outputs": []
    },
    {
      "cell_type": "markdown",
      "source": [
        "Median of a list"
      ],
      "metadata": {
        "id": "eixL3UBnfiAT"
      }
    },
    {
      "cell_type": "code",
      "source": [
        "def median_list(lst):\n",
        "  sorted(lst)\n",
        "  n = len(lst)\n",
        "  m = n//2\n",
        "  if n%2==0:\n",
        "    return (lst[m-1]+lst[m])/2\n",
        "  else:\n",
        "    return lst[m]\n",
        "\n",
        "lst = eval(input())\n",
        "print(median_list(lst))"
      ],
      "metadata": {
        "id": "DPv7kliHfW6S"
      },
      "execution_count": null,
      "outputs": []
    },
    {
      "cell_type": "markdown",
      "source": [
        "List of characters to string"
      ],
      "metadata": {
        "id": "7Z-GHB3KhPVR"
      }
    },
    {
      "cell_type": "code",
      "source": [
        "s = eval(input())\n",
        "result = \"\".join(s)\n",
        "print(result)"
      ],
      "metadata": {
        "id": "Funuul1Xgp-h"
      },
      "execution_count": null,
      "outputs": []
    },
    {
      "cell_type": "markdown",
      "source": [
        "Season of the year"
      ],
      "metadata": {
        "id": "phhuy5PNmUF6"
      }
    },
    {
      "cell_type": "code",
      "source": [
        "month = input()\n",
        "if month in (\"December\", \"January\", \"February\"):\n",
        "  print(\"The season is Winter\")\n",
        "elif month in (\"March\", \"April\", \"May\"):\n",
        "  print(\"The season is Spring\")\n",
        "elif month in (\"June\", \"July\", \"August\"):\n",
        "  print(\"The season is summer\")\n",
        "elif month in (\"September\", \"October\", \"November\"):\n",
        "  print(\"The season is Autumn\")\n",
        "else:\n",
        "  print(\"Invalid month\")"
      ],
      "metadata": {
        "id": "IDBRgIwPhZIB"
      },
      "execution_count": null,
      "outputs": []
    },
    {
      "cell_type": "markdown",
      "source": [
        "Biggest Even number"
      ],
      "metadata": {
        "id": "SMexXEZOzaRy"
      }
    },
    {
      "cell_type": "code",
      "source": [
        "def test(m,n):\n",
        "  if m>n or (m==n and m%2==1):\n",
        "    return -1\n",
        "  return n if n%2==0 else n-1\n",
        "\n",
        "m = int(input())\n",
        "n = int(input())\n",
        "print(test(m,n))"
      ],
      "metadata": {
        "id": "UgSreeas49vQ"
      },
      "execution_count": null,
      "outputs": []
    },
    {
      "cell_type": "markdown",
      "source": [
        "Integer greater than 4^4"
      ],
      "metadata": {
        "id": "BdTgz_R-0HAt"
      }
    },
    {
      "cell_type": "code",
      "source": [
        "def test(n):\n",
        "  return n%34 ==4 and n>4**4\n",
        "\n",
        "n = int(input())\n",
        "print(test(n))"
      ],
      "metadata": {
        "id": "QVxPtKaDz7rK"
      },
      "execution_count": null,
      "outputs": []
    },
    {
      "cell_type": "markdown",
      "source": [
        "Greatest divisor"
      ],
      "metadata": {
        "id": "407HwMf00ry8"
      }
    },
    {
      "cell_type": "code",
      "source": [
        "def test(n):\n",
        "  return next(d for d in range(n-1,0,-1) if n%d==0)\n",
        "\n",
        "n = int(input())\n",
        "print(test(n))"
      ],
      "metadata": {
        "id": "D6YwU73H0gai"
      },
      "execution_count": null,
      "outputs": []
    },
    {
      "cell_type": "markdown",
      "source": [
        "Palindrome string"
      ],
      "metadata": {
        "id": "DN3hG20H1OX4"
      }
    },
    {
      "cell_type": "code",
      "source": [
        "def palindrome(s):\n",
        "  return s == s[::-1]\n",
        "\n",
        "s = input()\n",
        "print(palindrome(s))"
      ],
      "metadata": {
        "id": "lON20g0v09WL"
      },
      "execution_count": null,
      "outputs": []
    },
    {
      "cell_type": "markdown",
      "source": [
        "Check integer"
      ],
      "metadata": {
        "id": "Z73f2Fum1nyg"
      }
    },
    {
      "cell_type": "code",
      "source": [
        "text = input()\n",
        "text = text.strip()\n",
        "if all(text[i] in \"0123456789\" for i in range(len(text))):\n",
        "  print(\"The string ia an integer\")\n",
        "else:\n",
        "  print(\"The string is not an integer\")"
      ],
      "metadata": {
        "id": "LpDIQWlX1X7z"
      },
      "execution_count": null,
      "outputs": []
    },
    {
      "cell_type": "markdown",
      "source": [
        "Count digits and letters"
      ],
      "metadata": {
        "id": "TpN41Amo2ZIx"
      }
    },
    {
      "cell_type": "code",
      "source": [
        "s = input()\n",
        "d=l=0\n",
        "for c in s:\n",
        "  if c.isdigit():\n",
        "    d+=1\n",
        "  elif c.isalpha():\n",
        "    l+=1\n",
        "  else:\n",
        "    pass\n",
        "\n",
        "print(l)\n",
        "print(d)"
      ],
      "metadata": {
        "id": "xSXQaPY72E8S"
      },
      "execution_count": null,
      "outputs": []
    },
    {
      "cell_type": "markdown",
      "source": [
        "Number greater than 10 with first and last odd digit"
      ],
      "metadata": {
        "id": "z_roGHbz3rMY"
      }
    },
    {
      "cell_type": "code",
      "source": [
        "def test(nums):\n",
        "  return [x for x in nums if x>10 and x%10%2 and int(str(x)[0])%2]\n",
        "\n",
        "n = eval(input())\n",
        "print(test(n))"
      ],
      "metadata": {
        "id": "tSWxG_Y92xgE"
      },
      "execution_count": null,
      "outputs": []
    },
    {
      "cell_type": "markdown",
      "source": [
        "Extract nth elements"
      ],
      "metadata": {
        "id": "9MnLmwj64ck2"
      }
    },
    {
      "cell_type": "code",
      "source": [
        "def extract_nth_element(lst,n):\n",
        "  return [x[n] for x in lst]\n",
        "\n",
        "lst= eval(input())\n",
        "n = int(input())\n",
        "print(extract_nth_element(lst,n))"
      ],
      "metadata": {
        "id": "2KPrpTtH4H2O"
      },
      "execution_count": null,
      "outputs": []
    },
    {
      "cell_type": "markdown",
      "source": [
        "Remove kth element"
      ],
      "metadata": {
        "id": "rU4vuQBd5Z_T"
      }
    },
    {
      "cell_type": "code",
      "source": [
        "def remove_kth_element(lst,L):\n",
        "  new_lst = [lst[i] for i in range(0,len(lst)) if i != L-1]\n",
        "  return new_lst\n",
        "\n",
        "lst = eval(input())\n",
        "k = int(input())\n",
        "print(remove_kth_element(lst,k))"
      ],
      "metadata": {
        "id": "PNF-l-gT4wMh"
      },
      "execution_count": null,
      "outputs": []
    },
    {
      "cell_type": "markdown",
      "source": [
        "Elements at specific index"
      ],
      "metadata": {
        "id": "En1--nNw6MK1"
      }
    },
    {
      "cell_type": "code",
      "source": [
        "def element_specific_index(nums, index_lst):\n",
        "  result = [nums[i] for i in index_lst]\n",
        "  return result\n",
        "\n",
        "nums = eval(input())\n",
        "index = eval(input())\n",
        "print(element_specific_index(nums,index))"
      ],
      "metadata": {
        "id": "ikmIcVh557q1"
      },
      "execution_count": null,
      "outputs": []
    },
    {
      "cell_type": "markdown",
      "source": [
        "Extract specified column"
      ],
      "metadata": {
        "id": "EL-icRv9-K0i"
      }
    },
    {
      "cell_type": "code",
      "source": [
        "def remove_column(nums,n):\n",
        "  result= [i.pop(n) for i in nums]\n",
        "  return result\n",
        "\n",
        "nums = eval(input())\n",
        "n = int(input())\n",
        "print(remove_column(nums,n))"
      ],
      "metadata": {
        "id": "W-YGhNL06oFR"
      },
      "execution_count": null,
      "outputs": []
    },
    {
      "cell_type": "markdown",
      "source": [
        "Remove string containing a character"
      ],
      "metadata": {
        "id": "_2AXz2LN_OgO"
      }
    },
    {
      "cell_type": "code",
      "source": [
        "def remove_word(in_list,char_list):\n",
        "  new_list = []\n",
        "  new_list = [word for line in in_list for word in line.split() if not any([phrase in word for phrase in char_list])]\n",
        "  return new_list\n",
        "\n",
        "str_list = eval(input())\n",
        "char_list = eval(input())\n",
        "print(remove_word(str_list, char_list))"
      ],
      "metadata": {
        "id": "sFCi2m6c-bbA"
      },
      "execution_count": null,
      "outputs": []
    },
    {
      "cell_type": "markdown",
      "source": [
        "Difference of consecutive numbers"
      ],
      "metadata": {
        "id": "1Nhz6q8aAizv"
      }
    },
    {
      "cell_type": "code",
      "source": [
        "def diff_consecutive_number(nums):\n",
        "  result = [b-a for a,b in zip(nums[:-1],nums[1:])]\n",
        "  return result\n",
        "\n",
        "nums = eval(input())\n",
        "print(diff_consecutive_number(nums))"
      ],
      "metadata": {
        "id": "dtLuwcrzACop"
      },
      "execution_count": null,
      "outputs": []
    },
    {
      "cell_type": "markdown",
      "source": [
        "Cumulative sum"
      ],
      "metadata": {
        "id": "AHc5XVP1BSn_"
      }
    },
    {
      "cell_type": "code",
      "source": [
        "def cumulative_sum(nums):\n",
        "  result = [sum(nums[:i+1]) for i in range(len(nums))]\n",
        "  return result\n",
        "\n",
        "nums = eval(input())\n",
        "print(cumulative_sum(nums))"
      ],
      "metadata": {
        "id": "T6_i8nUFBLfL"
      },
      "execution_count": null,
      "outputs": []
    },
    {
      "cell_type": "markdown",
      "source": [
        "Elements starting with specific character"
      ],
      "metadata": {
        "id": "X982JTb1DHxe"
      }
    },
    {
      "cell_type": "code",
      "source": [
        "def test(lst,char):\n",
        "  result = [i for i in lst if i.startswith(char)]\n",
        "  return result\n",
        "\n",
        "lst = eval(input())\n",
        "char = input()\n",
        "print(test(lst,char))"
      ],
      "metadata": {
        "id": "uGwHQ0BrBn20"
      },
      "execution_count": null,
      "outputs": []
    },
    {
      "cell_type": "markdown",
      "source": [
        "Pack duplicate elements"
      ],
      "metadata": {
        "id": "NWljAmBcNfnZ"
      }
    },
    {
      "cell_type": "code",
      "source": [
        "from itertools import groupby\n",
        "\n",
        "def pack_duplicates(i_nums):\n",
        "  return [list(group) for key,group in groupby(i_nums)]\n",
        "\n",
        "n = eval(input())\n",
        "print(pack_duplicates(n))"
      ],
      "metadata": {
        "id": "hb3S1y7sDjU-"
      },
      "execution_count": null,
      "outputs": []
    },
    {
      "cell_type": "markdown",
      "source": [
        "Consecutive duplicates removal"
      ],
      "metadata": {
        "id": "JXR0PlaPO3bi"
      }
    },
    {
      "cell_type": "code",
      "source": [
        "from itertools import groupby\n",
        "\n",
        "def compress(lst):\n",
        "  return [key for key,group in groupby(lst)]\n",
        "\n",
        "lst = eval(input())\n",
        "print(compress(lst))"
      ],
      "metadata": {
        "id": "fIWLxkepOMu7"
      },
      "execution_count": null,
      "outputs": []
    },
    {
      "cell_type": "markdown",
      "source": [
        "Create list using concatenation"
      ],
      "metadata": {
        "id": "LsN6Sx7BPejt"
      }
    },
    {
      "cell_type": "code",
      "source": [
        "lst = eval(input())\n",
        "n = int(input())\n",
        "new_list = ['{}{}'.format(x,y) for y in range(1,n+1) for x in lst]\n",
        "print(new_list)"
      ],
      "metadata": {
        "id": "bCCInVFePKyN"
      },
      "execution_count": null,
      "outputs": []
    },
    {
      "cell_type": "markdown",
      "source": [
        "Insert string at beginning"
      ],
      "metadata": {
        "id": "RMsTwarFQZZy"
      }
    },
    {
      "cell_type": "code",
      "source": [
        "n = eval(input())\n",
        "string = input()\n",
        "new_list = [string + '{0}'.format(i) for i in n]\n",
        "print(new_list)"
      ],
      "metadata": {
        "id": "0CadrGmEP2uQ"
      },
      "execution_count": null,
      "outputs": []
    },
    {
      "cell_type": "markdown",
      "source": [
        "Accept and print the string"
      ],
      "metadata": {
        "id": "rmjoFFAVRNlN"
      }
    },
    {
      "cell_type": "code",
      "source": [
        "class IOstring():\n",
        "  def __init__ (self):\n",
        "    self.str1 = \"\"\n",
        "\n",
        "  def get_string(self):\n",
        "    self.str1 = input()\n",
        "\n",
        "  def print_string(self):\n",
        "    print(self.str1.upper())\n",
        "\n",
        "str1 = IOstring()\n",
        "str1.get_string()\n",
        "str1.print_string()"
      ],
      "metadata": {
        "id": "eeEVXdLOQqHt"
      },
      "execution_count": null,
      "outputs": []
    },
    {
      "cell_type": "markdown",
      "source": [
        "Class to reverse a string"
      ],
      "metadata": {
        "id": "kXCXqL-UU4Vp"
      }
    },
    {
      "cell_type": "code",
      "source": [
        "class py_solution:\n",
        "  def reverse_word(self, s):\n",
        "    return ''.join(reversed(s.split()))\n",
        "\n",
        "string = input()\n",
        "print(py_solution().reverse_word(string))"
      ],
      "metadata": {
        "id": "q5EVyaTASEjd"
      },
      "execution_count": null,
      "outputs": []
    },
    {
      "cell_type": "markdown",
      "source": [
        "Modify attribute of class"
      ],
      "metadata": {
        "id": "Cdx_qixqY9ar"
      }
    },
    {
      "cell_type": "code",
      "source": [
        "class Student:\n",
        "    student_name = 'Terrance Morales'\n",
        "    marks = 93\n",
        "\n",
        "s_name = input()\n",
        "s_marks = int(input())\n",
        "print(getattr(Student, 'student_name'))\n",
        "print(getattr(Student, 'marks'))\n",
        "setattr(Student, 'student_name', s_name)\n",
        "setattr(Student, 'marks', s_marks)\n",
        "print(getattr(Student, 'student_name'))\n",
        "print(getattr(Student, 'marks'))"
      ],
      "metadata": {
        "id": "lKtybJRVV6k3"
      },
      "execution_count": null,
      "outputs": []
    },
    {
      "cell_type": "markdown",
      "source": [
        "Implement pow (x,n) using class"
      ],
      "metadata": {
        "id": "rHvrOAN3a3IN"
      }
    },
    {
      "cell_type": "code",
      "source": [
        "class py_solution:\n",
        "  def pow(self,x,n):\n",
        "    if x==0 or x==1 or n==1:\n",
        "      return x\n",
        "    if x==-1:\n",
        "      if n%2==0:\n",
        "        return -1\n",
        "      return 1\n",
        "    if n==0:\n",
        "      return 1\n",
        "    if n<0:\n",
        "      return 1/self.pow(x,-n)\n",
        "    val = self.pow(x,n//2)\n",
        "    if n%2==0:\n",
        "      return val*val\n",
        "    return val*val*x\n",
        "\n",
        "n1 = int(input())\n",
        "n2 = int(input())\n",
        "print(py_solution().pow(n1,n2))"
      ],
      "metadata": {
        "id": "gqZMhl4mYx5j"
      },
      "execution_count": null,
      "outputs": []
    },
    {
      "cell_type": "markdown",
      "source": [
        "retain character from string"
      ],
      "metadata": {
        "id": "8pCLFfDfc301"
      }
    },
    {
      "cell_type": "code",
      "source": [
        "def remove_character(str1,c):\n",
        "  return ''.join([el for el in str1 if el==c])\n",
        "\n",
        "i = input()\n",
        "c = input()\n",
        "print(remove_character(i,c))"
      ],
      "metadata": {
        "id": "UJUXoPTUcBNF"
      },
      "execution_count": null,
      "outputs": []
    },
    {
      "cell_type": "markdown",
      "source": [
        "check a value is present"
      ],
      "metadata": {
        "id": "9yZ-4Akcd0o7"
      }
    },
    {
      "cell_type": "code",
      "source": [
        "def check_value(str1,value):\n",
        "  return (value in str1)\n",
        "\n",
        "s = input()\n",
        "value = input()\n",
        "print(check_value(s,value))"
      ],
      "metadata": {
        "id": "XA0xZ0QgdM2s"
      },
      "execution_count": null,
      "outputs": []
    },
    {
      "cell_type": "markdown",
      "source": [
        "m rows and n columns matrices"
      ],
      "metadata": {
        "id": "EXbyut6hewd3"
      }
    },
    {
      "cell_type": "code",
      "source": [
        "def matrix(rows,cols):\n",
        "  multi_list = [[0 for col in range(col_num)] for row in range(row_num)]\n",
        "\n",
        "  for row in range(row_num):\n",
        "    for col in range(col_num):\n",
        "      multi_list[row][col]=row*col\n",
        "  return multi_list\n",
        "\n",
        "row_num = int(input())\n",
        "col_num = int(input())\n",
        "print(matrix(row_num,col_num))"
      ],
      "metadata": {
        "id": "u-rQBJLxeG15"
      },
      "execution_count": null,
      "outputs": []
    },
    {
      "cell_type": "markdown",
      "source": [
        "check number fall in given range"
      ],
      "metadata": {
        "id": "EginQZNohb4R"
      }
    },
    {
      "cell_type": "code",
      "source": [
        "def test_range(n):\n",
        "  if n in range(3,19):\n",
        "    print(\"%s is in the range\"%str(n))\n",
        "  else:\n",
        "    print(\"The given number is out of range\")\n",
        "\n",
        "s = int(input())\n",
        "test_range(s)"
      ],
      "metadata": {
        "id": "Bb-SFEqMgATa"
      },
      "execution_count": null,
      "outputs": []
    },
    {
      "cell_type": "markdown",
      "source": [
        "check whether a number is prime or not"
      ],
      "metadata": {
        "id": "e9nyJ6m1iUMw"
      }
    },
    {
      "cell_type": "code",
      "source": [
        "def prime_num(n):\n",
        "  if n==1:\n",
        "    return False\n",
        "  elif n==2:\n",
        "    return True;\n",
        "  else:\n",
        "    for x in range(2,n):\n",
        "      if (n%x==0):\n",
        "        return False\n",
        "    return True\n",
        "\n",
        "n = int(input())\n",
        "print(prime_num(n))"
      ],
      "metadata": {
        "id": "pIeLjc-Ph8Xh"
      },
      "execution_count": null,
      "outputs": []
    },
    {
      "cell_type": "markdown",
      "source": [
        "program access a function inside a function"
      ],
      "metadata": {
        "id": "QMDOEaFdjXch"
      }
    },
    {
      "cell_type": "code",
      "source": [
        "def test(a):\n",
        "  def add(b):\n",
        "    nonlocal a\n",
        "    a +=1\n",
        "    return a+b\n",
        "  return add\n",
        "\n",
        "n = int(input())\n",
        "func = test(n)\n",
        "print(func(n))"
      ],
      "metadata": {
        "id": "OpKOUhtWi6BW"
      },
      "execution_count": null,
      "outputs": []
    },
    {
      "cell_type": "code",
      "source": [],
      "metadata": {
        "id": "MUcXFrLljvuu"
      },
      "execution_count": null,
      "outputs": []
    }
  ]
}